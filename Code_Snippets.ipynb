{
 "cells": [
  {
   "cell_type": "markdown",
   "metadata": {},
   "source": [
    "### Modules"
   ]
  },
  {
   "cell_type": "code",
   "execution_count": null,
   "metadata": {},
   "outputs": [],
   "source": [
    "import tensorflow_addons as tfa\n",
    "from tensorflow.keras import applications\n",
    "from tensorflow.keras.models import Model\n",
    "from tensorflow.keras.callbacks import EarlyStopping, ModelCheckpoint\n",
    "import datetime\n",
    "import tensorflow as tf\n",
    "from tensorflow import keras\n",
    "from tensorflow.keras import layers, Model, Sequential\n",
    "from tensorflow.keras.layers import Conv2D, BatchNormalization, Activation, MaxPool2D, Dropout, Flatten, Dense,Input,GlobalAveragePooling2D,AveragePooling2D\n",
    "import datetime\n",
    "import random\n",
    "import os\n",
    "import cv2\n",
    "import numpy as np\n",
    "import matplotlib.pyplot as plt\n",
    "os.environ['KMP_DUPLICATE_LIB_OK'] = 'True'"
   ]
  },
  {
   "cell_type": "markdown",
   "metadata": {},
   "source": [
    "### Hand-Craft ResNet-18"
   ]
  },
  {
   "cell_type": "code",
   "execution_count": null,
   "metadata": {},
   "outputs": [],
   "source": [
    "from Network.ResNet import ResNet\n",
    "import tensorflow_addons as tfa\n",
    "model = ResNet([2,2,2,2])\n",
    "model.build(input_shape=(None,H,W,C))"
   ]
  },
  {
   "cell_type": "markdown",
   "metadata": {},
   "source": [
    "### ResNet-50 from Keras"
   ]
  },
  {
   "cell_type": "code",
   "execution_count": null,
   "metadata": {},
   "outputs": [],
   "source": [
    "# Transfer Learning - Tryouts\n",
    "\n",
    "base_model = applications.resnet50.ResNet50(weights='imagenet', include_top=False,layers=tf.keras.layers)  \n",
    "#base_model = applications.xception.Xception(weights='imagenet', include_top=False, input_shape=[resize_H,resize_W,channel]) \n",
    "\n",
    "\n",
    "for layer in base_model.layers[:140]:  # Keep the pretrained params\n",
    "    layer.trainable = False\n",
    "for layer in base_model.layers[140:]:  # Keep the pretrained params\n",
    "    layer.trainable = True\n",
    "    \n",
    "x = base_model.output  # \n",
    "x = GlobalAveragePooling2D()(x)  \n",
    "x = Dense(1024, activation='relu', name='fc1',kernel_regularizer=keras.regularizers.l2(0.0001))(x)  \n",
    "x = Dropout(0.5)(x)  # Droupout 0.6\n",
    "x = Dense(512, activation='relu', name='fc2',kernel_regularizer=keras.regularizers.l2(0.0001))(x)\n",
    "#x = Dropout(0.5)(x)\n",
    "predictions = Dense(5, activation='softmax', name='predictions')(x)  \n",
    "\n",
    "model = Model(base_model.input,predictions)  "
   ]
  },
  {
   "cell_type": "markdown",
   "metadata": {},
   "source": [
    "### Hyperparameters"
   ]
  },
  {
   "cell_type": "code",
   "execution_count": null,
   "metadata": {},
   "outputs": [],
   "source": [
    "#optimizer = tfa.optimizers.AdamW(lr=3e-4, weight_decay=3e-4)\n",
    "optimizer = tf.optimizers.Adam(lr=3e-4)\n",
    "loss=tf.keras.losses.CategoricalCrossentropy(from_logits=True)\n",
    "model.compile(optimizer=optimizer,loss=loss,metrics=['accuracy'])\n",
    "model.summary()"
   ]
  },
  {
   "cell_type": "markdown",
   "metadata": {},
   "source": [
    "### Tranining Strategies and Implementation"
   ]
  },
  {
   "cell_type": "code",
   "execution_count": null,
   "metadata": {},
   "outputs": [],
   "source": [
    "reduce = keras.callbacks.ReduceLROnPlateau(monitor='val_loss', factor=0.6, patience=4, mode='auto')\n",
    "early = keras.callbacks.EarlyStopping(monitor='val_loss', min_delta=1e-4, patience=5, mode='auto')\n",
    "model.fit(X_train,y_train, epochs=30, shuffle = True, validation_split=0.1, batch_size = 8, callbacks=[reduce, early])"
   ]
  }
 ],
 "metadata": {
  "kernelspec": {
   "display_name": "Python 3",
   "language": "python",
   "name": "python3"
  },
  "language_info": {
   "codemirror_mode": {
    "name": "ipython",
    "version": 3
   },
   "file_extension": ".py",
   "mimetype": "text/x-python",
   "name": "python",
   "nbconvert_exporter": "python",
   "pygments_lexer": "ipython3",
   "version": "3.7.7"
  }
 },
 "nbformat": 4,
 "nbformat_minor": 4
}
