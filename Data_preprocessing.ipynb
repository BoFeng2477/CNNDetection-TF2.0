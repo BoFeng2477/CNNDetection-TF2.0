{
 "cells": [
  {
   "cell_type": "code",
   "execution_count": 15,
   "metadata": {},
   "outputs": [],
   "source": [
    "import os\n",
    "import pandas as pd\n",
    "import numpy as np"
   ]
  },
  {
   "cell_type": "code",
   "execution_count": 5,
   "metadata": {},
   "outputs": [],
   "source": [
    "data_dir = '../Copy of progan_train/progan_train'\n",
    "class_name = os.listdir(data_dir)"
   ]
  },
  {
   "cell_type": "code",
   "execution_count": 37,
   "metadata": {},
   "outputs": [
    {
     "name": "stdout",
     "output_type": "stream",
     "text": [
      "Empty DataFrame\n",
      "Columns: [file, label]\n",
      "Index: []\n"
     ]
    }
   ],
   "source": []
  },
  {
   "cell_type": "code",
   "execution_count": 50,
   "metadata": {
    "scrolled": false
   },
   "outputs": [],
   "source": [
    "df = pd.DataFrame({'file':[], 'label':[]})\n",
    "for c in class_name:\n",
    "    dir_path = data_dir + '/' + c\n",
    "    binary = os.listdir(dir_path)\n",
    "    for i in binary:\n",
    "        cur_path = dir_path + '/' + i\n",
    "        image_name = np.array(os.listdir(cur_path))\n",
    "        image_name = np.char.add(c + '/' + i + '/', image_name)\n",
    "        \n",
    "        if '0' in i:\n",
    "            label = np.zeros(image_name.shape)\n",
    "        else:\n",
    "            label = np.ones_like(image_name)\n",
    "            \n",
    "        cur_df = pd.DataFrame({'file': image_name, 'label':label})\n",
    "        df = pd.concat([df, cur_df])"
   ]
  },
  {
   "cell_type": "code",
   "execution_count": 52,
   "metadata": {},
   "outputs": [],
   "source": [
    "df.to_csv('image_names.csv', index = False)\n",
    "cur_df.to_csv('sdf.csv', index = False)"
   ]
  },
  {
   "cell_type": "code",
   "execution_count": null,
   "metadata": {},
   "outputs": [],
   "source": []
  }
 ],
 "metadata": {
  "kernelspec": {
   "display_name": "Python 3",
   "language": "python",
   "name": "python3"
  },
  "language_info": {
   "codemirror_mode": {
    "name": "ipython",
    "version": 3
   },
   "file_extension": ".py",
   "mimetype": "text/x-python",
   "name": "python",
   "nbconvert_exporter": "python",
   "pygments_lexer": "ipython3",
   "version": "3.7.9"
  }
 },
 "nbformat": 4,
 "nbformat_minor": 4
}
