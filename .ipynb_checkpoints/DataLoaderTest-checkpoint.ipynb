{
 "cells": [
  {
   "cell_type": "code",
   "execution_count": 64,
   "metadata": {},
   "outputs": [],
   "source": [
    "import math\n",
    "import os\n",
    "import numpy as np\n",
    "import random\n",
    "import cv2\n",
    "from PIL import Image\n",
    "from tensorflow.keras.utils import Sequence"
   ]
  },
  {
   "cell_type": "code",
   "execution_count": 66,
   "metadata": {},
   "outputs": [],
   "source": [
    "class DataGenerator(Sequence):\n",
    "\n",
    "    def __init__(self, file_index, batch_size=32, shuffle=True):\n",
    "        self.datas = file_index \n",
    "        \n",
    "        self.batch_size = batch_size\n",
    "        self.shuffle = shuffle\n",
    "        self.on_epoch_end()\n",
    "        \n",
    "        \n",
    "    def __len__(self):      \n",
    "        return int(np.floor(len(self.datas) / self.batch_size)) #np.floor / np.ceil\n",
    " \n",
    "\n",
    "    def __getitem__(self, index):\n",
    "        \n",
    "        indexs = self.index[index*self.batch_size:(index+1)*self.batch_size]\n",
    "        img_path = [self.datas.loc[k]['file'] for k in indexs]\n",
    "        labels = [self.datas.loc[k]['label'] for k in indexs]\n",
    "        imgs = self.read_img_from_csv(img_path)\n",
    "        return imgs,labels\n",
    "\n",
    "    def read_img_from_csv(img_path):\n",
    "        imgs = []\n",
    "        for path in img_path:\n",
    "            img = cv2.imread(path)\n",
    "            \n",
    "            imgs.append(img)\n",
    "        \n",
    "        imgs = np.arrary(imgs).reshape(self.batch_size,224,224,3).astype(np.float32)\n",
    "        imgs = imgs / 255.0  \n",
    "        return imgs\n",
    "    \n",
    "    def data_augment(img, opt):\n",
    "        img = np.array(img)\n",
    "\n",
    "        if random() < opt.blur_prob:\n",
    "            sig = sample_continuous(opt.blur_sig)\n",
    "            gaussian_blur(img, sig)\n",
    "\n",
    "        if random() < opt.jpg_prob:\n",
    "            method = sample_discrete(opt.jpg_method)\n",
    "            qual = sample_discrete(opt.jpg_qual)\n",
    "            img = jpeg_from_key(img, qual, method)\n",
    "\n",
    "        return Image.fromarray(img)\n",
    "    \n",
    "    \n",
    "    def sample_continuous(s):\n",
    "        if len(s) == 1:\n",
    "            return s[0]\n",
    "        if len(s) == 2:\n",
    "            rg = s[1] - s[0]\n",
    "            return random() * rg + s[0]\n",
    "        raise ValueError(\"Length of iterable s should be 1 or 2.\")\n",
    "\n",
    "\n",
    "    def sample_discrete(s):\n",
    "        if len(s) == 1:\n",
    "            return s[0]\n",
    "        return choice(s)\n",
    "\n",
    "\n",
    "    def gaussian_blur(img, sigma):\n",
    "        gaussian_filter(img[:,:,0], output=img[:,:,0], sigma=sigma)\n",
    "        gaussian_filter(img[:,:,1], output=img[:,:,1], sigma=sigma)\n",
    "        gaussian_filter(img[:,:,2], output=img[:,:,2], sigma=sigma)\n",
    "\n",
    "\n",
    "    def cv2_jpg(img, compress_val):\n",
    "        img_cv2 = img[:,:,::-1]\n",
    "        encode_param = [int(cv2.IMWRITE_JPEG_QUALITY), compress_val]\n",
    "        result, encimg = cv2.imencode('.jpg', img_cv2, encode_param)\n",
    "        decimg = cv2.imdecode(encimg, 1)\n",
    "        return decimg[:,:,::-1]\n",
    "\n",
    "\n",
    "    def pil_jpg(img, compress_val):\n",
    "        out = BytesIO()\n",
    "        img = Image.fromarray(img)\n",
    "        img.save(out, format='jpeg', quality=compress_val)\n",
    "        img = Image.open(out)\n",
    "        # load from memory before ByteIO closes\n",
    "        img = np.array(img)\n",
    "        out.close()\n",
    "        return img\n",
    "\n",
    "\n",
    "    jpeg_dict = {'cv2': cv2_jpg, 'pil': pil_jpg}\n",
    "    def jpeg_from_key(img, compress_val, key):\n",
    "        method = jpeg_dict[key]\n",
    "        return method(img, compress_val)\n",
    "\n",
    "\n",
    "    rz_dict = {'bilinear': Image.BILINEAR,\n",
    "               'bicubic': Image.BICUBIC,\n",
    "               'lanczos': Image.LANCZOS,\n",
    "               'nearest': Image.NEAREST}\n",
    "    def custom_resize(img, opt):\n",
    "        interp = sample_discrete(opt.rz_interp)\n",
    "        return TF.resize(img, opt.loadSize, interpolation=rz_dict[interp])\n"
   ]
  },
  {
   "cell_type": "code",
   "execution_count": 46,
   "metadata": {},
   "outputs": [],
   "source": [
    "import pandas as pd"
   ]
  },
  {
   "cell_type": "code",
   "execution_count": 47,
   "metadata": {},
   "outputs": [],
   "source": [
    "a = pd.read_csv('image_names.csv')[0:10]"
   ]
  },
  {
   "cell_type": "code",
   "execution_count": 54,
   "metadata": {},
   "outputs": [
    {
     "name": "stdout",
     "output_type": "stream",
     "text": [
      "                        file  label\n",
      "0  airplane/0_real/00000.png    0.0\n",
      "1  airplane/0_real/00001.png    0.0\n",
      "2  airplane/0_real/00002.png    0.0\n",
      "3  airplane/0_real/00004.png    0.0\n",
      "4  airplane/0_real/00006.png    0.0\n",
      "5  airplane/0_real/00007.png    0.0\n",
      "6  airplane/0_real/00008.png    0.0\n",
      "7  airplane/0_real/00009.png    0.0\n",
      "8  airplane/0_real/00010.png    0.0\n",
      "9  airplane/0_real/00011.png    0.0\n"
     ]
    }
   ],
   "source": [
    "A = SequenceData(file_index=a)"
   ]
  },
  {
   "cell_type": "code",
   "execution_count": 58,
   "metadata": {},
   "outputs": [
    {
     "data": {
      "text/plain": [
       "[0.0, 0.0, 0.0, 0.0, 0.0]"
      ]
     },
     "execution_count": 58,
     "metadata": {},
     "output_type": "execute_result"
    }
   ],
   "source": [
    "[a.loc[k]['label'] for k in [0,1,2,3,4]]"
   ]
  },
  {
   "cell_type": "code",
   "execution_count": null,
   "metadata": {},
   "outputs": [],
   "source": []
  }
 ],
 "metadata": {
  "kernelspec": {
   "display_name": "Python 3",
   "language": "python",
   "name": "python3"
  },
  "language_info": {
   "codemirror_mode": {
    "name": "ipython",
    "version": 3
   },
   "file_extension": ".py",
   "mimetype": "text/x-python",
   "name": "python",
   "nbconvert_exporter": "python",
   "pygments_lexer": "ipython3",
   "version": "3.8.3"
  }
 },
 "nbformat": 4,
 "nbformat_minor": 4
}
