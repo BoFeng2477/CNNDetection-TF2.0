{
 "cells": [
  {
   "cell_type": "code",
   "execution_count": 27,
   "metadata": {},
   "outputs": [],
   "source": [
    "import pandas as pd\n",
    "import numpy as np\n",
    "from sklearn.metrics import average_precision_score, precision_recall_curve, accuracy_score"
   ]
  },
  {
   "cell_type": "code",
   "execution_count": 47,
   "metadata": {},
   "outputs": [],
   "source": [
    "\n",
    "GT = pd.read_csv('Img_index/test/progan_test.csv')\n",
    "pred = pd.read_csv('test_results/model1/progan.csv')"
   ]
  },
  {
   "cell_type": "code",
   "execution_count": 127,
   "metadata": {},
   "outputs": [
    {
     "name": "stdout",
     "output_type": "stream",
     "text": [
      "\n",
      "\n",
      "model: model2\n",
      "Dataset: cyclegan\n",
      "\n",
      "Accuracy: 0.7426192278576835\n",
      "AP: 0.8435489205523993\n",
      "fake_recall: 0.6343679031037093\n",
      "real_recall: 0.8508705526116578\n"
     ]
    }
   ],
   "source": [
    "test_set = [\"progan\",\"stylegan\",'biggan', \"cyclegan\",\"stargan\", \"gaugan\",'crn', \"imle\", \"seeingdark\",\"san\",  \"deepfake\", \n",
    "             \"stylegan2\",'whichfaceisreal']\n",
    "models = ['model1','model2','model3','model4','model5']\n",
    "\n",
    "for model in models[:]:\n",
    "    for dataset in test_set[3:4]:\n",
    "        model_name = model\n",
    "        dataset = dataset\n",
    "        gt_path = 'Img_index/test/' + dataset + '_test.csv'\n",
    "        pred_path = 'test_results/'+model_name+'/' + dataset + '.csv'\n",
    "\n",
    "        y_true = np.array(pd.read_csv(gt_path)['label'])\n",
    "        y_pred = np.array(pd.read_csv(pred_path)['label'])\n",
    "\n",
    "        r_acc = accuracy_score(y_true[y_true==0], y_pred[y_true==0] > 0.5)\n",
    "        f_acc = accuracy_score(y_true[y_true==1], y_pred[y_true==1] > 0.5)\n",
    "        acc = accuracy_score(y_true, y_pred > 0.5)\n",
    "        ap = average_precision_score(y_true, y_pred)\n",
    "        print('\\n\\nmodel: {}'.format(model_name))\n",
    "        print('Dataset: {}'.format(dataset))\n",
    "        print('\\nAccuracy: {}'.format(acc))\n",
    "        print('AP: {}'.format(np.round(ap*100,2)))\n",
    "        print('fake_recall: {}'.format(f_acc))\n",
    "        print('real_recall: {}'.format(r_acc))"
   ]
  },
  {
   "cell_type": "code",
   "execution_count": 4,
   "metadata": {},
   "outputs": [
    {
     "name": "stdout",
     "output_type": "stream",
     "text": [
      "usage: test_demo.py [-h] [--model MODEL] [--image IMAGE] [--crop CROP]\n",
      "test_demo.py: error: unrecognized arguments: ../trained_model/model1/baseline-cp-8.ckpt\n"
     ]
    }
   ],
   "source": [
    "!python test_demo.py --model ../trained_model/model1/baseline-cp-8.ckpt --image ./demo_images/fake.png"
   ]
  },
  {
   "cell_type": "code",
   "execution_count": null,
   "metadata": {},
   "outputs": [],
   "source": []
  }
 ],
 "metadata": {
  "kernelspec": {
   "display_name": "Python 3",
   "language": "python",
   "name": "python3"
  },
  "language_info": {
   "codemirror_mode": {
    "name": "ipython",
    "version": 3
   },
   "file_extension": ".py",
   "mimetype": "text/x-python",
   "name": "python",
   "nbconvert_exporter": "python",
   "pygments_lexer": "ipython3",
   "version": "3.8.3"
  }
 },
 "nbformat": 4,
 "nbformat_minor": 4
}
