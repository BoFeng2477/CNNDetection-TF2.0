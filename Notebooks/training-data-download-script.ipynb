{
 "cells": [
  {
   "cell_type": "markdown",
   "metadata": {},
   "source": [
    "# Downloading Data"
   ]
  },
  {
   "cell_type": "markdown",
   "metadata": {},
   "source": [
    "## progan_train.7z.001"
   ]
  },
  {
   "cell_type": "code",
   "execution_count": 21,
   "metadata": {
    "scrolled": true
   },
   "outputs": [
    {
     "name": "stderr",
     "output_type": "stream",
     "text": [
      "Downloading...\n",
      "From: https://drive.google.com/uc?id=1Of7kXBU-XfRNBNZ9HO_u2gbW-RXeur3M\n",
      "To: /home/ecbm4040/e4040-proj-data/progan_train.7z.001\n",
      "10.7GB [01:32, 116MB/s] \n"
     ]
    },
    {
     "data": {
      "text/plain": [
       "'progan_train.7z.001'"
      ]
     },
     "execution_count": 21,
     "metadata": {},
     "output_type": "execute_result"
    }
   ],
   "source": [
    "import gdown\n",
    "\n",
    "\n",
    "url = 'https://drive.google.com/uc?id=1X_YjFRTh17ubwuPVumPOEGAv1WsjD40I'\n",
    "output = 'progan_train.7z.001'\n",
    "gdown.download(url, output, quiet=False)"
   ]
  },
  {
   "cell_type": "markdown",
   "metadata": {},
   "source": [
    "## progan_train.7z.002"
   ]
  },
  {
   "cell_type": "code",
   "execution_count": 22,
   "metadata": {},
   "outputs": [
    {
     "name": "stderr",
     "output_type": "stream",
     "text": [
      "Downloading...\n",
      "From: https://drive.google.com/uc?id=1LtmABQmlJzJ4kh5F1EVIPFrvTYyIEPUK\n",
      "To: /home/ecbm4040/e4040-proj-data/progan_train.7z.002\n",
      "10.7GB [01:32, 116MB/s] \n"
     ]
    },
    {
     "data": {
      "text/plain": [
       "'progan_train.7z.002'"
      ]
     },
     "execution_count": 22,
     "metadata": {},
     "output_type": "execute_result"
    }
   ],
   "source": [
    "url = 'https://drive.google.com/uc?id=1LtmABQmlJzJ4kh5F1EVIPFrvTYyIEPUK'\n",
    "output = 'progan_train.7z.002'\n",
    "gdown.download(url, output, quiet=False)"
   ]
  },
  {
   "cell_type": "markdown",
   "metadata": {},
   "source": [
    "## progan_train.7z.003"
   ]
  },
  {
   "cell_type": "code",
   "execution_count": 24,
   "metadata": {},
   "outputs": [
    {
     "name": "stderr",
     "output_type": "stream",
     "text": [
      "Downloading...\n",
      "From: https://drive.google.com/uc?id=1-YJ3HRc6zC8Uv9dNy7JJR3tCx0eG-_rt\n",
      "To: /home/ecbm4040/e4040-proj-data/progan_train.7z.003\n",
      "10.7GB [01:35, 113MB/s] \n"
     ]
    },
    {
     "data": {
      "text/plain": [
       "'progan_train.7z.003'"
      ]
     },
     "execution_count": 24,
     "metadata": {},
     "output_type": "execute_result"
    }
   ],
   "source": [
    "url = 'https://drive.google.com/uc?id=1-YJ3HRc6zC8Uv9dNy7JJR3tCx0eG-_rt'\n",
    "output = 'progan_train.7z.003'\n",
    "gdown.download(url, output, quiet=False)"
   ]
  },
  {
   "cell_type": "markdown",
   "metadata": {},
   "source": [
    "## progan_train.7z.004"
   ]
  },
  {
   "cell_type": "code",
   "execution_count": 33,
   "metadata": {},
   "outputs": [
    {
     "name": "stderr",
     "output_type": "stream",
     "text": [
      "Downloading...\n",
      "From: https://drive.google.com/uc?id=1Sf5uj-na8SDYeIcVrl5zptDZTbxJTOAS\n",
      "To: /home/ecbm4040/e4040-proj-data/progan_train.7z.004\n",
      "10.7GB [01:38, 109MB/s] \n"
     ]
    },
    {
     "data": {
      "text/plain": [
       "'progan_train.7z.004'"
      ]
     },
     "execution_count": 33,
     "metadata": {},
     "output_type": "execute_result"
    }
   ],
   "source": [
    "url = 'https://drive.google.com/uc?id=1Sf5uj-na8SDYeIcVrl5zptDZTbxJTOAS'\n",
    "output = 'progan_train.7z.004'\n",
    "gdown.download(url, output, quiet=False)"
   ]
  },
  {
   "cell_type": "markdown",
   "metadata": {},
   "source": [
    "## progan_train.7z.005"
   ]
  },
  {
   "cell_type": "code",
   "execution_count": 34,
   "metadata": {
    "scrolled": true
   },
   "outputs": [
    {
     "name": "stderr",
     "output_type": "stream",
     "text": [
      "Downloading...\n",
      "From: https://drive.google.com/uc?id=119CLTBPhHhsCwSbFAvs1tyTg7GMOl6eY\n",
      "To: /home/ecbm4040/e4040-proj-data/progan_train.7z.005\n",
      "10.7GB [01:41, 106MB/s] \n"
     ]
    },
    {
     "data": {
      "text/plain": [
       "'progan_train.7z.005'"
      ]
     },
     "execution_count": 34,
     "metadata": {},
     "output_type": "execute_result"
    }
   ],
   "source": [
    "url = 'https://drive.google.com/uc?id=119CLTBPhHhsCwSbFAvs1tyTg7GMOl6eY'\n",
    "output = 'progan_train.7z.005'\n",
    "gdown.download(url, output, quiet=False)"
   ]
  },
  {
   "cell_type": "markdown",
   "metadata": {},
   "source": [
    "## progan_train.7z.006"
   ]
  },
  {
   "cell_type": "code",
   "execution_count": 35,
   "metadata": {},
   "outputs": [
    {
     "name": "stderr",
     "output_type": "stream",
     "text": [
      "Downloading...\n",
      "From: https://drive.google.com/uc?id=1rOOAQJFaRngk4yDXtdeTKatSDfjSOhAd\n",
      "To: /home/ecbm4040/e4040-proj-data/progan_train.7z.006\n",
      "10.7GB [11:12, 16.0MB/s]\n"
     ]
    },
    {
     "data": {
      "text/plain": [
       "'progan_train.7z.006'"
      ]
     },
     "execution_count": 35,
     "metadata": {},
     "output_type": "execute_result"
    }
   ],
   "source": [
    "url = 'https://drive.google.com/uc?id=1rOOAQJFaRngk4yDXtdeTKatSDfjSOhAd'\n",
    "output = 'progan_train.7z.006'\n",
    "gdown.download(url, output, quiet=False)"
   ]
  },
  {
   "cell_type": "markdown",
   "metadata": {},
   "source": [
    "## progan_train.7z.007"
   ]
  },
  {
   "cell_type": "code",
   "execution_count": 36,
   "metadata": {},
   "outputs": [
    {
     "name": "stderr",
     "output_type": "stream",
     "text": [
      "Downloading...\n",
      "From: https://drive.google.com/uc?id=1mG1K8-myXaGvgK5fkut9L1b6esEQovkY\n",
      "To: /home/ecbm4040/e4040-proj-data/progan_train.7z.007\n",
      "10.5GB [14:02, 12.5MB/s]\n"
     ]
    },
    {
     "data": {
      "text/plain": [
       "'progan_train.7z.007'"
      ]
     },
     "execution_count": 36,
     "metadata": {},
     "output_type": "execute_result"
    }
   ],
   "source": [
    "url = 'https://drive.google.com/uc?id=1mG1K8-myXaGvgK5fkut9L1b6esEQovkY'\n",
    "output = 'progan_train.7z.007'\n",
    "gdown.download(url, output, quiet=False)"
   ]
  },
  {
   "cell_type": "code",
   "execution_count": 37,
   "metadata": {},
   "outputs": [],
   "source": [
    "## Combine Files"
   ]
  },
  {
   "cell_type": "code",
   "execution_count": 38,
   "metadata": {},
   "outputs": [
    {
     "name": "stdout",
     "output_type": "stream",
     "text": [
      "cat: write error: No space left on device\n"
     ]
    }
   ],
   "source": [
    "!cat progan_train.7z.* > ./progan_train.zip"
   ]
  }
 ],
 "metadata": {
  "kernelspec": {
   "display_name": "Python 3",
   "language": "python",
   "name": "python3"
  },
  "language_info": {
   "codemirror_mode": {
    "name": "ipython",
    "version": 3
   },
   "file_extension": ".py",
   "mimetype": "text/x-python",
   "name": "python",
   "nbconvert_exporter": "python",
   "pygments_lexer": "ipython3",
   "version": "3.8.3"
  }
 },
 "nbformat": 4,
 "nbformat_minor": 4
}
