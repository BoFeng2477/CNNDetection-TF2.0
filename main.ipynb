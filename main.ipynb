{
 "cells": [
  {
   "cell_type": "markdown",
   "metadata": {},
   "source": [
    "# Training"
   ]
  },
  {
   "cell_type": "markdown",
   "metadata": {},
   "source": [
    "* You can either: **1.** train on the **[Demo Training Set](https://drive.google.com/drive/folders/1HEUGhMrEuhA0Q-ncP3zaAqssF0V0V8b2?usp=sharing)** we provided in readme or **2.** download the whole [training set](https://drive.google.com/file/d/1iVNBV0glknyTYGA9bCxT_d0CVTOgGcKh/view?usp=sharing) as well as the [validation set](https://drive.google.com/file/d/1FU7xF8Wl_F8b0tgL0529qg2nZ_RpdVNL/view?usp=sharing) to train a actual functional model\n",
    "* To start a training, please download your selected training dataset to './Copy_of_progan_train/train/'. For more detailed instructions, please refer to readme or [training-data-download-script.ipynb](Notebooks/training-data-download-script.ipynb) \n",
    "* Here we provide sample code for training on our 1-class demo traning set with no validation set. Training on the whole dataset follows bascially the same pattern."
   ]
  },
  {
   "cell_type": "markdown",
   "metadata": {},
   "source": [
    "## 1. Training via command line"
   ]
  },
  {
   "cell_type": "code",
   "execution_count": null,
   "metadata": {},
   "outputs": [],
   "source": [
    "!python train_script.py --train_dir ./Copy_of_progan_train/train/ --val_dir None --batch_size 64 --train_index Img_index/train/1class.csv --val_index Img_index/val/progan_val.csv --epoch 8 --blur_prob 0 --jpeg_prob 0 ----save_path ./train_model/model-cp-{epoch:d}.ckpt"
   ]
  },
  {
   "cell_type": "markdown",
   "metadata": {},
   "source": [
    "## 2. Training in notebook"
   ]
  },
  {
   "cell_type": "markdown",
   "metadata": {},
   "source": [
    "**Note:** While training, your model checkpoint will be saved to './train_model/' after each epoch."
   ]
  },
  {
   "cell_type": "code",
   "execution_count": 1,
   "metadata": {},
   "outputs": [],
   "source": [
    "%load_ext autoreload\n",
    "%autoreload 2\n",
    "from train_script import train"
   ]
  },
  {
   "cell_type": "code",
   "execution_count": null,
   "metadata": {},
   "outputs": [],
   "source": [
    "train(train_dir = './Copy_of_progan_train/train/', \n",
    "     val_dir = 'None',\n",
    "     train_idx = 'Img_index/train/1class.csv', \n",
    "     val_idx = 'None',\n",
    "     save_path = './train_model/model',\n",
    "     checkpoint = None, start_epoch = 0, batch_size = 64, epoch = 8, blur_prob =0, jpeg_prob=0)"
   ]
  },
  {
   "cell_type": "markdown",
   "metadata": {},
   "source": [
    "# Evaluations"
   ]
  },
  {
   "cell_type": "markdown",
   "metadata": {},
   "source": [
    "* You can either: **1.** Running a full test using the whole test set on our 7 pre-trained models or **2.** Validate the scores we get with the raw outputs from each model as we provided in [test_results](test_results/)\n",
    "* To run a full test, you will need to download the whole [test set](https://drive.google.com/file/d/1z_fD3UKgWQyOTZIBbYSaQ-hz4AzUrLC1/view?usp=sharing) as well as our [pre-trained models](https://drive.google.com/drive/folders/1BgTtjHC0WozAJ8QOKko_leXadjtsQQ9N), put all test sets pre-trained models into './train_model/' while test sets should be loacted in './CNN_synth_testset/' after downloading.\n",
    "* For AP score validation only, you don't need to download anything, we already provided all resources in this repo, simply import required modules and run the code in section 2 below."
   ]
  },
  {
   "cell_type": "markdown",
   "metadata": {},
   "source": [
    "## 1. Running a full test"
   ]
  },
  {
   "cell_type": "code",
   "execution_count": 2,
   "metadata": {},
   "outputs": [],
   "source": [
    "from sklearn.metrics import average_precision_score, precision_recall_curve, accuracy_score\n",
    "import tensorflow.keras as keras\n",
    "import tensorflow as tf\n",
    "from Data.DataPipe import TestDataGenerator\n",
    "from Network.Det_RN50 import Det_RN50\n",
    "import pandas as pd\n",
    "import numpy as np\n",
    "import argparse\n",
    "import cv2\n",
    "from tqdm import tqdm"
   ]
  },
  {
   "cell_type": "code",
   "execution_count": null,
   "metadata": {},
   "outputs": [],
   "source": [
    "# Put the path to models you want to test in this list\n",
    "models = [ \"./train_model/model1/model1-cp-8.ckpt\" ] \n",
    "\n",
    "# Put the names of test sets you want to test your model on in this list\n",
    "test_set = ['biggan','crn', \"cyclegan\", \"deepfake\", \"gaugan\", \"imle\", \"progan\", \"san\", \"seeingdark\", \n",
    "            \"stargan\", \"stylegan\", \"stylegan2\", \"whichfaceisreal\"] \n",
    "\n",
    "for ckpt in models[:]:\n",
    "    model = Det_RN50()        # Import the model structure\n",
    "    model.load_weights(ckpt)  # load pretrained weights\n",
    "    for test_name in test_set[:]:\n",
    "        print('\\n\\nModel Loaded:{}'.format(ckpt))\n",
    "        print('\\nTesting on:{}\\n'.format(test_name))\n",
    "        img_idx = \"Img_index/test/\" + test_name + \"_test.csv\" \n",
    "        root = \"./CNN_synth_testset/\" + test_name + \"/\"\n",
    "        img_idx = pd.read_csv(img_idx) # Import Test set Index\n",
    "        ANS = pd.DataFrame(columns=['file','label'])\n",
    "        len_size = len(img_idx)\n",
    "        with tqdm(total=len_size) as pbar:\n",
    "            for i,row in img_idx.iterrows():\n",
    "                img = cv2.imread(root+row['file'])  # Load test images one at a time\n",
    "                img = img/255.0\n",
    "                h,w,c = img.shape\n",
    "                img = img.reshape(1,h,w,3)\n",
    "                pred = model.predict(img)[0][0]\n",
    "                pred = tf.sigmoid(pred).numpy() # Output the raw score right after sigmoid\n",
    "                ANS = ANS.append({'file':row['file'],'label':pred},ignore_index=True)\n",
    "                pbar.update(1)\n",
    "        ANS.to_csv('test_results/'+ckpt.split('/')[2]+'/'+test_name+'.csv',columns=['file','label'],index=False)\n",
    "            "
   ]
  },
  {
   "cell_type": "markdown",
   "metadata": {},
   "source": [
    "## 2. Calculating average precison(AP) based on raw output from models"
   ]
  },
  {
   "cell_type": "code",
   "execution_count": 4,
   "metadata": {},
   "outputs": [],
   "source": [
    "test_set = [\"progan\",\"stylegan\",'biggan', \"cyclegan\",\"stargan\", \"gaugan\",'crn', \"imle\", \"seeingdark\",\"san\",  \"deepfake\", \n",
    "             \"stylegan2\",'whichfaceisreal']\n",
    "\n",
    "models = ['model-2c','model-8c','model1','model2','model3','model4','model5']\n",
    "\n",
    "result_table = pd.DataFrame(columns=[\"progan\",\"stylegan\",'biggan', \"cyclegan\",\"stargan\", \"gaugan\",'crn', \"imle\", \"seeingdark\",\"san\",  \"deepfake\", \n",
    "             \"stylegan2\",'whichfaceisreal'])\n",
    "\n",
    "for model in models[:]:\n",
    "    result = {\"progan\":0,\"stylegan\":0,'biggan':0, \"cyclegan\":0,\"stargan\":0, \"gaugan\":0,'crn':0, \"imle\":0, \"seeingdark\":0,\"san\":0,\"deepfake\":0, \n",
    "             \"stylegan2\":0,'whichfaceisreal':0}\n",
    "    for dataset in test_set[:]:      \n",
    "        model_name = model\n",
    "        dataset = dataset\n",
    "        gt_path = 'Img_index/test/' + dataset + '_test.csv'            # Path to Ground Truth Index\n",
    "        pred_path = 'test_results/'+model_name+'/' + dataset + '.csv'  # Path to Predicted Scores\n",
    "\n",
    "        y_true = np.array(pd.read_csv(gt_path)['label'])     # Import Ground Truth\n",
    "        y_pred = np.array(pd.read_csv(pred_path)['label'])   # Import Predicted Scores \n",
    "\n",
    "        r_acc = accuracy_score(y_true[y_true==0], y_pred[y_true==0] > 0.5)\n",
    "        f_acc = accuracy_score(y_true[y_true==1], y_pred[y_true==1] > 0.5)\n",
    "        acc = accuracy_score(y_true, y_pred > 0.5)       # Calculate Accuracy\n",
    "        ap = average_precision_score(y_true, y_pred)     # Calculate Average Precision\n",
    "        result[dataset] = np.round(100*ap,1)             # Round the AP outcome\n",
    "    \n",
    "    series = pd.Series(result,name=model)\n",
    "    result_table = result_table.append(series)\n"
   ]
  },
  {
   "cell_type": "code",
   "execution_count": 5,
   "metadata": {},
   "outputs": [
    {
     "data": {
      "text/html": [
       "<div>\n",
       "<style scoped>\n",
       "    .dataframe tbody tr th:only-of-type {\n",
       "        vertical-align: middle;\n",
       "    }\n",
       "\n",
       "    .dataframe tbody tr th {\n",
       "        vertical-align: top;\n",
       "    }\n",
       "\n",
       "    .dataframe thead th {\n",
       "        text-align: right;\n",
       "    }\n",
       "</style>\n",
       "<table border=\"1\" class=\"dataframe\">\n",
       "  <thead>\n",
       "    <tr style=\"text-align: right;\">\n",
       "      <th></th>\n",
       "      <th>progan</th>\n",
       "      <th>stylegan</th>\n",
       "      <th>biggan</th>\n",
       "      <th>cyclegan</th>\n",
       "      <th>stargan</th>\n",
       "      <th>gaugan</th>\n",
       "      <th>crn</th>\n",
       "      <th>imle</th>\n",
       "      <th>seeingdark</th>\n",
       "      <th>san</th>\n",
       "      <th>deepfake</th>\n",
       "      <th>stylegan2</th>\n",
       "      <th>whichfaceisreal</th>\n",
       "    </tr>\n",
       "  </thead>\n",
       "  <tbody>\n",
       "    <tr>\n",
       "      <th>model-2c</th>\n",
       "      <td>97.6</td>\n",
       "      <td>82.3</td>\n",
       "      <td>66.4</td>\n",
       "      <td>82.8</td>\n",
       "      <td>85.5</td>\n",
       "      <td>88.1</td>\n",
       "      <td>96.2</td>\n",
       "      <td>97.9</td>\n",
       "      <td>79.2</td>\n",
       "      <td>58.1</td>\n",
       "      <td>61.7</td>\n",
       "      <td>81.1</td>\n",
       "      <td>99.1</td>\n",
       "    </tr>\n",
       "    <tr>\n",
       "      <th>model-8c</th>\n",
       "      <td>100.0</td>\n",
       "      <td>95.2</td>\n",
       "      <td>68.3</td>\n",
       "      <td>87.1</td>\n",
       "      <td>100.0</td>\n",
       "      <td>63.4</td>\n",
       "      <td>98.4</td>\n",
       "      <td>95.3</td>\n",
       "      <td>97.5</td>\n",
       "      <td>87.1</td>\n",
       "      <td>94.8</td>\n",
       "      <td>95.4</td>\n",
       "      <td>94.0</td>\n",
       "    </tr>\n",
       "    <tr>\n",
       "      <th>model1</th>\n",
       "      <td>100.0</td>\n",
       "      <td>96.6</td>\n",
       "      <td>72.1</td>\n",
       "      <td>76.0</td>\n",
       "      <td>100.0</td>\n",
       "      <td>59.3</td>\n",
       "      <td>97.8</td>\n",
       "      <td>94.1</td>\n",
       "      <td>98.9</td>\n",
       "      <td>91.1</td>\n",
       "      <td>96.4</td>\n",
       "      <td>99.8</td>\n",
       "      <td>97.5</td>\n",
       "    </tr>\n",
       "    <tr>\n",
       "      <th>model2</th>\n",
       "      <td>100.0</td>\n",
       "      <td>96.5</td>\n",
       "      <td>76.7</td>\n",
       "      <td>84.4</td>\n",
       "      <td>100.0</td>\n",
       "      <td>65.1</td>\n",
       "      <td>92.6</td>\n",
       "      <td>93.8</td>\n",
       "      <td>99.6</td>\n",
       "      <td>49.1</td>\n",
       "      <td>67.3</td>\n",
       "      <td>99.4</td>\n",
       "      <td>98.9</td>\n",
       "    </tr>\n",
       "    <tr>\n",
       "      <th>model3</th>\n",
       "      <td>100.0</td>\n",
       "      <td>96.2</td>\n",
       "      <td>74.7</td>\n",
       "      <td>86.1</td>\n",
       "      <td>95.9</td>\n",
       "      <td>90.3</td>\n",
       "      <td>99.4</td>\n",
       "      <td>99.6</td>\n",
       "      <td>85.0</td>\n",
       "      <td>69.3</td>\n",
       "      <td>88.5</td>\n",
       "      <td>94.6</td>\n",
       "      <td>95.3</td>\n",
       "    </tr>\n",
       "    <tr>\n",
       "      <th>model4</th>\n",
       "      <td>100.0</td>\n",
       "      <td>97.7</td>\n",
       "      <td>78.1</td>\n",
       "      <td>91.9</td>\n",
       "      <td>98.2</td>\n",
       "      <td>92.4</td>\n",
       "      <td>96.7</td>\n",
       "      <td>98.1</td>\n",
       "      <td>99.2</td>\n",
       "      <td>56.2</td>\n",
       "      <td>65.9</td>\n",
       "      <td>98.5</td>\n",
       "      <td>99.7</td>\n",
       "    </tr>\n",
       "    <tr>\n",
       "      <th>model5</th>\n",
       "      <td>100.0</td>\n",
       "      <td>93.6</td>\n",
       "      <td>72.1</td>\n",
       "      <td>81.7</td>\n",
       "      <td>99.2</td>\n",
       "      <td>73.1</td>\n",
       "      <td>87.7</td>\n",
       "      <td>81.5</td>\n",
       "      <td>98.8</td>\n",
       "      <td>54.5</td>\n",
       "      <td>68.0</td>\n",
       "      <td>97.4</td>\n",
       "      <td>97.5</td>\n",
       "    </tr>\n",
       "  </tbody>\n",
       "</table>\n",
       "</div>"
      ],
      "text/plain": [
       "          progan  stylegan  biggan  cyclegan  stargan  gaugan   crn  imle  \\\n",
       "model-2c    97.6      82.3    66.4      82.8     85.5    88.1  96.2  97.9   \n",
       "model-8c   100.0      95.2    68.3      87.1    100.0    63.4  98.4  95.3   \n",
       "model1     100.0      96.6    72.1      76.0    100.0    59.3  97.8  94.1   \n",
       "model2     100.0      96.5    76.7      84.4    100.0    65.1  92.6  93.8   \n",
       "model3     100.0      96.2    74.7      86.1     95.9    90.3  99.4  99.6   \n",
       "model4     100.0      97.7    78.1      91.9     98.2    92.4  96.7  98.1   \n",
       "model5     100.0      93.6    72.1      81.7     99.2    73.1  87.7  81.5   \n",
       "\n",
       "          seeingdark   san  deepfake  stylegan2  whichfaceisreal  \n",
       "model-2c        79.2  58.1      61.7       81.1             99.1  \n",
       "model-8c        97.5  87.1      94.8       95.4             94.0  \n",
       "model1          98.9  91.1      96.4       99.8             97.5  \n",
       "model2          99.6  49.1      67.3       99.4             98.9  \n",
       "model3          85.0  69.3      88.5       94.6             95.3  \n",
       "model4          99.2  56.2      65.9       98.5             99.7  \n",
       "model5          98.8  54.5      68.0       97.4             97.5  "
      ]
     },
     "execution_count": 5,
     "metadata": {},
     "output_type": "execute_result"
    }
   ],
   "source": [
    "result_table"
   ]
  }
 ],
 "metadata": {
  "kernelspec": {
   "display_name": "Python 3",
   "language": "python",
   "name": "python3"
  },
  "language_info": {
   "codemirror_mode": {
    "name": "ipython",
    "version": 3
   },
   "file_extension": ".py",
   "mimetype": "text/x-python",
   "name": "python",
   "nbconvert_exporter": "python",
   "pygments_lexer": "ipython3",
   "version": "3.8.3"
  }
 },
 "nbformat": 4,
 "nbformat_minor": 4
}
