{
 "cells": [
  {
   "cell_type": "code",
   "execution_count": 1,
   "metadata": {},
   "outputs": [
    {
     "name": "stdout",
     "output_type": "stream",
     "text": [
      "2020-12-15 11:01:05.783896: I tensorflow/core/platform/cpu_feature_guard.cc:143] Your CPU supports instructions that this TensorFlow binary was not compiled to use: AVX2 FMA\n",
      "2020-12-15 11:01:05.805696: I tensorflow/compiler/xla/service/service.cc:168] XLA service 0x7fe7c96afa00 initialized for platform Host (this does not guarantee that XLA will be used). Devices:\n",
      "2020-12-15 11:01:05.805723: I tensorflow/compiler/xla/service/service.cc:176]   StreamExecutor device (0): Host, Default Version\n",
      "\n",
      "\n",
      "Model Loaded:model1/baseline-cp-8.ckpt\n",
      "\n",
      "Testing on:../CNN_synth_testset/seeingdark/\n",
      "\n",
      "152/360 [===========>..................] - ETA: 1:58 - loss: 0.7863 - accuracy: 0.8421^C\n"
     ]
    }
   ],
   "source": [
    "!python test.py --checkpoint model1/baseline-cp-8.ckpt --img_index Img_index/test/seeingdark_test.csv --root_dir ../CNN_synth_testset/seeingdark/"
   ]
  },
  {
   "cell_type": "code",
   "execution_count": null,
   "metadata": {},
   "outputs": [],
   "source": []
  }
 ],
 "metadata": {
  "kernelspec": {
   "display_name": "Python 3",
   "language": "python",
   "name": "python3"
  },
  "language_info": {
   "codemirror_mode": {
    "name": "ipython",
    "version": 3
   },
   "file_extension": ".py",
   "mimetype": "text/x-python",
   "name": "python",
   "nbconvert_exporter": "python",
   "pygments_lexer": "ipython3",
   "version": "3.8.3"
  }
 },
 "nbformat": 4,
 "nbformat_minor": 4
}
